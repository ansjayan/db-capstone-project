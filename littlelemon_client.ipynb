{
 "cells": [
  {
   "cell_type": "markdown",
   "id": "5fec8e4a",
   "metadata": {},
   "source": [
    "Little Lemon have started building a functional booking system from which they can manage their customer data. An integral part of a well-functioning system is the ability to query data. Little Lemon need you to help them add the search functionality required to query their data. "
   ]
  },
  {
   "cell_type": "code",
   "execution_count": 1,
   "id": "8c3fd1b3",
   "metadata": {},
   "outputs": [],
   "source": [
    "# !pip install mysql-connector-python"
   ]
  },
  {
   "cell_type": "code",
   "execution_count": 2,
   "id": "98ccf988",
   "metadata": {},
   "outputs": [],
   "source": [
    "import mysql.connector as connector"
   ]
  },
  {
   "cell_type": "markdown",
   "id": "0f4d436c",
   "metadata": {},
   "source": [
    "### Task One\n",
    "\n",
    "In the previous exercise you created a Python environment. In the first task of this exercise, you are tasked with extending the environment to connect with your database and interact with the data it holds. \n",
    "\n",
    "Your first step is to import the connector module, enter your user details and connect with the database (Hint: you can use an alias when importing the module).\n",
    "\n",
    "This gives you access to all the functionality available from the connector API, which can be accessed through the variable named connector (or whichever alias you choose). \n",
    "\n",
    "To connect with your database, you can call the connect method of the connector class and pass in your details using the following code: "
   ]
  },
  {
   "cell_type": "code",
   "execution_count": 3,
   "id": "21e2a574",
   "metadata": {},
   "outputs": [
    {
     "data": {
      "text/plain": [
       "<mysql.connector.connection_cext.CMySQLConnection at 0x2cb60d98340>"
      ]
     },
     "execution_count": 3,
     "metadata": {},
     "output_type": "execute_result"
    }
   ],
   "source": [
    "connection = connector.connect(user = \"newuser\" , password = \"new1#QQ4\", db = \"littlelemondb\")\n",
    "connection"
   ]
  },
  {
   "cell_type": "markdown",
   "id": "0c38ddf1",
   "metadata": {},
   "source": [
    "This code should look very familiar to you from the previous course, apart from the parameter db. DB stands for database. When instantiating the connection, you can pass the database name here in place of calling the USE command later. \n",
    "\n",
    "The final step is to instantiate an instance of cursor to pass queries and return results (Hint: the cursor is part of the connection class outlined above)."
   ]
  },
  {
   "cell_type": "code",
   "execution_count": 4,
   "id": "eca463fd",
   "metadata": {},
   "outputs": [],
   "source": [
    "cursor = connection.cursor()"
   ]
  },
  {
   "cell_type": "code",
   "execution_count": 5,
   "id": "8cb15262",
   "metadata": {},
   "outputs": [],
   "source": [
    "cursor.execute(\"use littlelemondb\")"
   ]
  },
  {
   "cell_type": "markdown",
   "id": "f774cf5a",
   "metadata": {},
   "source": [
    "### Task two\n",
    "\n",
    "In this second task, you now need to query the database to show all tables within the database. \n",
    "\n",
    "Having established a connection in the first task, you need to execute a test query to ensure that there are no issues. You can do this by executing, or passing, a generic query that returns a snapshot of the database tables. \n",
    "\n",
    "You need to execute the query on the cursor using the code that follows. The cursor, as you should recall, is the bridge through which you can pass queries and return results. "
   ]
  },
  {
   "cell_type": "code",
   "execution_count": 6,
   "id": "b3fe0bd1",
   "metadata": {},
   "outputs": [],
   "source": [
    "show_tables_query = \"SHOW tables\" \n",
    "cursor.execute(show_tables_query)\n",
    "results = cursor.fetchall()\n",
    "# for r in cursor:\n",
    "#     print(r)"
   ]
  },
  {
   "cell_type": "markdown",
   "id": "1f6405cc",
   "metadata": {},
   "source": [
    "As before, a variable is used to hold the query. To gain a general insight, the query asks to display all tables within the database. \n",
    "\n",
    "The second line calls the cursor execute method. This method takes the Python string and ports it into a viable SQL statement. It then passes it to the database and returns the result. \n",
    "\n",
    "To view the results of your query, you can create another variable called results (Hint: the cursor has a method that can return all results in one call). \n",
    "\n",
    "To view the tables that are associated with a database, you can print out the results variable using the following code: "
   ]
  },
  {
   "cell_type": "code",
   "execution_count": 7,
   "id": "6f2be519",
   "metadata": {},
   "outputs": [
    {
     "name": "stdout",
     "output_type": "stream",
     "text": [
      "[('bookings',), ('customers',), ('menu',), ('menuitems',), ('orderdeliverystatus',), ('orders',), ('ordersview',), ('staffinformation',)]\n"
     ]
    }
   ],
   "source": [
    "print(results)"
   ]
  },
  {
   "cell_type": "markdown",
   "id": "48cacb7a",
   "metadata": {},
   "source": [
    "### Task 3\n",
    "\n",
    "Query with table JOIN\n",
    "\n",
    "For the third and final task, Little Lemon need you to return specific details from your database. They require the full name and contact details for every customer that has placed an order greater than $60 for a promotional campaign. \n",
    "\n",
    "You can use the following steps to implement this functionality in your database directory:\n",
    "\n",
    "Step One: Identify which tables are required. To complete the query, you first need to identify which table has the required data. \n",
    "\n",
    "The bill paid can be found in Orders as TotalCost and the customer contact information can be found in the Customers table. \n",
    "\n",
    "When selecting attributes from a specific table, specify the table name, followed by a dot and the target attribute as below (Hint: select the column attributes that you will need). \n",
    "\n",
    "Step Two: Next, specify a table (Hint: The FROM keyword allows you to identify a table.)\n",
    "\n",
    "To join two tables, specify the type of JOIN and the attribute to join the table on. The tables must be joined on an attribute that is common to both tables (such as a common column).\n",
    "\n",
    "Step Three: Finally, include a clause to filter the data on. (Hint: the WHERE clause can be used to add conditional parameters.) \n",
    "\n",
    "When you have completed these steps, wrap this query as a string and pass it to the .execute() method of the cursor class. When executed, your SELECT query must extract the full name, contact details and bill amount for every customer who spent more than $60.\n",
    "\n"
   ]
  },
  {
   "cell_type": "code",
   "execution_count": 8,
   "id": "b617bc64",
   "metadata": {},
   "outputs": [
    {
     "name": "stdout",
     "output_type": "stream",
     "text": [
      "[]\n"
     ]
    }
   ],
   "source": [
    "query = \"\"\"select c.FullName, c.Email, c.ContactNumber, c.City, c.PostalCode, c.Country, o.Cost\n",
    "            from customers as c \n",
    "            inner join orders as o\n",
    "            on c.CustomerID = o.CustomerID\n",
    "            where o.Cost > 60\"\"\"\n",
    "cursor.execute(query)\n",
    "print(cursor.fetchall())"
   ]
  },
  {
   "cell_type": "code",
   "execution_count": null,
   "id": "cb4ef8ca",
   "metadata": {},
   "outputs": [],
   "source": []
  },
  {
   "cell_type": "code",
   "execution_count": null,
   "id": "90b98d29",
   "metadata": {},
   "outputs": [],
   "source": []
  }
 ],
 "metadata": {
  "kernelspec": {
   "display_name": "Python 3 (ipykernel)",
   "language": "python",
   "name": "python3"
  },
  "language_info": {
   "codemirror_mode": {
    "name": "ipython",
    "version": 3
   },
   "file_extension": ".py",
   "mimetype": "text/x-python",
   "name": "python",
   "nbconvert_exporter": "python",
   "pygments_lexer": "ipython3",
   "version": "3.10.9"
  }
 },
 "nbformat": 4,
 "nbformat_minor": 5
}
